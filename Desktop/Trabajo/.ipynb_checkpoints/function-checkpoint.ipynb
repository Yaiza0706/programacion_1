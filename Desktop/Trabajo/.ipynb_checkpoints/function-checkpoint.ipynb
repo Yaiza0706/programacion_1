{
 "cells": [
  {
   "cell_type": "code",
   "execution_count": 1,
   "id": "2e17a843-0b5a-44ab-9af6-ac3a0546e229",
   "metadata": {
    "tags": []
   },
   "outputs": [],
   "source": [
    "import requests\n",
    "import re\n",
    "from bs4 import BeautifulSoup\n",
    "import pandas as pd\n",
    "import json"
   ]
  },
  {
   "cell_type": "code",
   "execution_count": 2,
   "id": "84457b89-59cd-4476-a5c9-a37b6ff9d18d",
   "metadata": {
    "tags": []
   },
   "outputs": [],
   "source": [
    "#Function that returns the different scenarios with its corresponding information related to cpu and speed\n",
    "def get_scenarios(divisions_cpu, divisions_speed):\n",
    "    try:\n",
    "        # Get the chart: Comparing most common desktop, laptops and mobile CPUs \n",
    "        response = requests.get(\"https://www.cpubenchmark.net/cross-platform.html\")\n",
    "\n",
    "        # Parse the HTML content and find the chart with the data\n",
    "        soup = BeautifulSoup(response.content, 'html.parser')\n",
    "        chart_list = soup.find('ul', class_='chartlist')\n",
    "\n",
    "        # Extract each row and its data from the chart list\n",
    "        items = chart_list.find_all('li')\n",
    "        names = [item.find('span', class_='prdname').text.strip().lower() for item in items]\n",
    "        scores = [float(item.find('span', class_='count').text.strip().replace(',', '')) for item in items]\n",
    "        types = [item.find('button', class_='buttonToggle').text.strip().lower() for item in items]\n",
    "\n",
    "        # Create DataFrame\n",
    "        cpu_df = pd.DataFrame({\n",
    "            \"Name\": names,\n",
    "            \"Type\": types,\n",
    "            \"Score\": scores,\n",
    "        })\n",
    "\n",
    "        # Normalize scores\n",
    "        cpu_df[\"Score\"] = ((cpu_df[\"Score\"] - cpu_df[\"Score\"].min()) / (cpu_df[\"Score\"].max() - cpu_df[\"Score\"].min()))\n",
    "\n",
    "        #Calculate cpu quantiles\n",
    "        quantiles = [i / divisions_cpu for i in range(1, divisions_cpu + 1)]\n",
    "        quantile_values = cpu_df[\"Score\"].quantile(quantiles)\n",
    "\n",
    "        # Set scenarios and its ranges\n",
    "        scenarios_cpu = []\n",
    "        for i, quantile in enumerate(quantile_values):\n",
    "            device_scenario = i+1\n",
    "            if i != 0:\n",
    "                range_min = quantile_values[quantiles[i-1]]\n",
    "            else:\n",
    "                range_min = 0\n",
    "            range_max = quantile_values[quantiles[i]]   \n",
    "            scenario_data = {\n",
    "                \"Device_Scenario\": device_scenario,\n",
    "                \"Range_Min\": range_min,\n",
    "                \"Range_Max\": range_max,\n",
    "            }\n",
    "            scenarios_cpu.append(scenario_data)          \n",
    "\n",
    "        #Get the chart: Median country speed into a dataframe\n",
    "        response = requests.get(\"https://www.speedtest.net/global-index\")\n",
    "\n",
    "        # Find the variable 'results' and convert it to json\n",
    "        match = re.search(r'var\\s+results\\s*=\\s*({.*?});', response.text, re.DOTALL).group(1)\n",
    "        data_dict = json.loads(match)      \n",
    "        speed_data = {}\n",
    "\n",
    "        # Extract data from  json \n",
    "        for entry in data_dict[\"fixedMedian\"]:\n",
    "            country = entry[\"country\"][\"country_name\"]\n",
    "            speed_data[country] = {\n",
    "                \"Rank\": entry[\"rank\"],\n",
    "                \"Fixed downlink\": entry[\"download_mbps\"],\n",
    "                \"Fixed uplink\": entry[\"upload_mbps\"],\n",
    "                \"Fixed latency\": entry[\"latency_ms\"],\n",
    "                \"Fixed jitter\": entry[\"jitter\"],\n",
    "                \"Mobile downlink\": None,\n",
    "                \"Mobile uplink\": None,\n",
    "                \"Mobile latency\": None,\n",
    "                \"Mobile jitter\": None\n",
    "            }   \n",
    "        for entry in data_dict[\"mobileMedian\"]:\n",
    "            country = entry[\"country\"][\"country_name\"]\n",
    "            speed_data[country][\"Mobile downlink\"] = entry[\"download_mbps\"]\n",
    "            speed_data[country][\"Mobile uplink\"] = entry[\"upload_mbps\"]\n",
    "            speed_data[country][\"Mobile latency\"] = entry[\"latency_ms\"]\n",
    "            speed_data[country][\"Mobile jitter\"] = entry[\"jitter\"]\n",
    "\n",
    "        # Create DataFrame and convert speed values to float\n",
    "        speed_df = pd.DataFrame.from_dict(speed_data, orient='index').reset_index()\n",
    "        speed_df.columns = ['Country', 'Rank', 'Fixed downlink', 'Fixed uplink', 'Fixed latency', 'Fixed jitter', 'Mobile downlink', 'Mobile uplink', 'Mobile latency', 'Mobile jitter']\n",
    "        speed_columns = ['Fixed downlink', 'Fixed uplink', 'Fixed latency', 'Fixed jitter', 'Mobile downlink', 'Mobile uplink', 'Mobile latency', 'Mobile jitter']\n",
    "        speed_df[speed_columns] = speed_df[speed_columns].astype(float)\n",
    "\n",
    "        scenarios_speed = []\n",
    "        connection_types = [\"Mobile\", \"Fixed\"]\n",
    "\n",
    "        for connection_type in connection_types: \n",
    "            # Calculate quantile values for mobile and fixed connections\n",
    "            quantiles = [i / int(divisions_speed/2) for i in range(1, int((divisions_speed/2)+1))]\n",
    "            quantile_values = speed_df[f\"{connection_type} downlink\"].quantile(quantiles)\n",
    "\n",
    "            # Set scenarios and its ranges\n",
    "            for i, quantile in enumerate(quantile_values):\n",
    "                speed_scenario = i+1\n",
    "                if i != 0:\n",
    "                    range_min = quantile_values[quantiles[i-1]]\n",
    "                else:\n",
    "                    range_min = 0\n",
    "                range_max = quantile_values[quantiles[i]]\n",
    "\n",
    "                # Filter country rows within the quantile range and extract mean values\n",
    "                quantile_countries = speed_df[(speed_df[f\"{connection_type} downlink\"] >= range_min) & (speed_df[f\"{connection_type} downlink\"] <= range_max)]\n",
    "                down_speed = quantile_countries[f\"{connection_type} downlink\"].median()\n",
    "                up_speed = quantile_countries[f\"{connection_type} uplink\"].median()\n",
    "                latency = quantile_countries[f\"{connection_type} latency\"].median()\n",
    "                jitter = quantile_countries[f\"{connection_type} jitter\"].median()            \n",
    "\n",
    "                scenario_data = {\n",
    "                    \"Connection_Type\": connection_type,\n",
    "                    \"Country_Scenario\": speed_scenario,\n",
    "                    \"Range_Min\": range_min,\n",
    "                    \"Range_Max\": range_max,\n",
    "                    \"Down_Speed\": down_speed,\n",
    "                    \"Up_Speed\": up_speed,\n",
    "                    \"Latency\": latency,\n",
    "                    \"Jitter\": jitter\n",
    "                }\n",
    "                scenarios_speed.append(scenario_data)\n",
    "\n",
    "        # Get a dataframe with the information of the scenarios combining cpu and speed \n",
    "        scenario_list = []\n",
    "        for cpu_scenario in scenarios_cpu:\n",
    "            for speed_scenario in scenarios_speed:\n",
    "                scenario_info = {\n",
    "                    \"Scenario_Number\": len(scenario_list) + 1,\n",
    "                    \"CPU_Scenario\": cpu_scenario[\"Device_Scenario\"],\n",
    "                    \"Speed_Scenario\": speed_scenario[\"Country_Scenario\"],\n",
    "                    \"Connection_Type\": speed_scenario[\"Connection_Type\"],\n",
    "                    \"Range_CPU\": (cpu_scenario[\"Range_Min\"], cpu_scenario[\"Range_Max\"]),\n",
    "                    \"Range_Speed\": (speed_scenario[\"Range_Min\"], speed_scenario[\"Range_Max\"]),\n",
    "                    \"Down_Speed\": speed_scenario[\"Down_Speed\"],\n",
    "                    \"Up_Speed\": speed_scenario[\"Up_Speed\"],\n",
    "                    \"Latency\": speed_scenario[\"Latency\"],\n",
    "                    \"Jitter\": speed_scenario[\"Jitter\"]\n",
    "                }\n",
    "                scenario_list.append(scenario_info)\n",
    "        scenarios_df = pd.DataFrame(scenario_list)\n",
    "        return scenarios_df, cpu_df, speed_df\n",
    "    \n",
    "    except:\n",
    "        print(\"It was not possible to define the different scenarios \")\n",
    "\n",
    "\n",
    "#Type: The type of device, such \"Desktop\", “Connected TV”, \"Smart Phone\", \"Tablet\"   \n",
    "    #Supposing that Laptop is inside Desktop\n",
    "#Brand: The brand of mobile device, such \"Acer\", \"Amazon\", \"Apple\", \"Samsung\", \"Xiaomi\"...\n",
    "#Model: The brand and model of device, such \"Amazon Kindle Fire\", \"Apple iPhone\", \"Samsung Galaxy\"...    \n",
    "\n",
    "#Function that returns the scenario of a given device in agiven country\n",
    "def retrieve_scenario(cpu_df, speed_df, country_name, device_type, device_brand = \"\", device_model = \"\"):\n",
    "    try:\n",
    "        # Get the score of a device depending on the known information\n",
    "        device_found = False\n",
    "\n",
    "        if device_model:\n",
    "            #Look for the devices that contains the given model in the dataframe and compute the average score of them\n",
    "            model_devices = cpu_df[cpu_df[\"Name\"].str.contains(device_model.lower(), case=False)]\n",
    "            if not model_devices.empty:\n",
    "                score = model_devices[\"Score\"].median()\n",
    "                device_found = True\n",
    "\n",
    "        if device_brand and not device_found:\n",
    "            #Look for the devices of the given brand in the dataframe and compute the average score of them\n",
    "            brand_devices = cpu_df[cpu_df[\"Name\"].str.contains(device_brand.lower(), case=False)]\n",
    "            if not brand_devices.empty:\n",
    "                score = brand_devices[\"Score\"].median()\n",
    "                device_found = True\n",
    "\n",
    "        if not device_found:\n",
    "            if device_type.lower() == \"desktop\":\n",
    "                # Compute the average score of the devices with system 'desktop' or 'laptop'\n",
    "                devices = cpu_df[(cpu_df[\"Type\"] == \"desktop\") | (cpu_df[\"Type\"] == \"laptop\")]\n",
    "\n",
    "            elif device_type.lower() == \"smart phone\" or device_type.lower() == \"tablet\":\n",
    "                # Compute the average score of the devices with system 'android' or 'ios'\n",
    "                devices = cpu_df[(cpu_df[\"Type\"] == \"ios\") | (cpu_df[\"Type\"] == \"android\")]\n",
    "\n",
    "            elif device_type.lower() == \"connected tv\" :\n",
    "                # Compute the average score of the devices with system 'android'\n",
    "                devices = cpu_df[cpu_df[\"Type\"] == \"android\"]\n",
    "\n",
    "            if not devices.empty:\n",
    "                score = devices[\"Score\"].median()\n",
    "            else:\n",
    "                score = cpu_df[\"Score\"].median()\n",
    "                \n",
    "        # Get the type of connection according to the device\n",
    "        if device_type.lower() == \"desktop\" or device_type.lower() == \"connected tv\":\n",
    "            connection_type = \"Fixed\"\n",
    "        else:\n",
    "            connection_type = \"Mobile\" \n",
    "\n",
    "        # Replace Nan values by 0 in speed_df\n",
    "        speed_df.fillna(0, inplace=True)\n",
    "\n",
    "        # Get downlink speed of a country according to the connection type\n",
    "        country_speed = speed_df[speed_df[\"Country\"] == country_name]\n",
    "        if not country_speed.empty:\n",
    "            downlink_speed = country_speed[f\"{connection_type} downlink\"].values[0]\n",
    "\n",
    "            # Compute the average speed for both above and below items according to fixed downlink speed ranking when country speed is not available \n",
    "            if downlink_speed == 0.0:\n",
    "                country_rank = country_speed[\"Rank\"].values[0]\n",
    "                previous_speed = 0.0\n",
    "                previous_rank = country_rank - 1\n",
    "                next_speed = 0.0\n",
    "                next_rank = country_rank + 1\n",
    "                while previous_speed == 0.0:\n",
    "                    previous_speed = speed_df[speed_df['Rank'] == previous_rank][f\"{connection_type} downlink\"].values[0]\n",
    "                    previous_rank -= 1\n",
    "                    if previous_rank < 1:\n",
    "                        previous_speed = speed_df[f\"{connection_type} downlink\"].median()\n",
    "                while next_speed == 0.0:\n",
    "                    next_speed = speed_df[speed_df['Rank'] == next_rank][f\"{connection_type} downlink\"].values[0]\n",
    "                    next_rank += 1\n",
    "                    max_rank = speed_df.shape[0]\n",
    "                    if next_rank > max_rank :\n",
    "                        next_speed = speed_df[f\"{connection_type} downlink\"].median()\n",
    "                downlink_speed = (previous_speed + next_speed) / 2\n",
    "        else:\n",
    "            #If there is no information about given country, take the median value of all of them\n",
    "            downlink_speed = speed_df[f\"{connection_type} downlink\"].median()\n",
    "\n",
    "        # Find the corresponding speed scenario for the speed\n",
    "        for _, row in scenarios_df.iterrows():\n",
    "            if row[\"Connection_Type\"] == connection_type:\n",
    "                if score >= row[\"Range_CPU\"][0] and score < row[\"Range_CPU\"][1]:\n",
    "                    if downlink_speed >= row[\"Range_Speed\"][0] and downlink_speed <= row[\"Range_Speed\"][1]:\n",
    "                        scenario_number = row[\"Scenario_Number\"]\n",
    "        print(\"Downlink speed of the country: \", downlink_speed, \"\\nScore of the device\", score, \"\\nConnection type:\", connection_type)\n",
    "        return scenario_number\n",
    "    except:\n",
    "        print(\"It was no possible to get the scenario. Review the arguments\")\n"
   ]
  },
  {
   "cell_type": "code",
   "execution_count": 3,
   "id": "4307900c-55d3-43e9-ba45-ac73e1f502d9",
   "metadata": {
    "tags": []
   },
   "outputs": [],
   "source": [
    "scenarios_df, cpu_df, speed_df = get_scenarios(4,9)"
   ]
  },
  {
   "cell_type": "code",
   "execution_count": 4,
   "id": "8a735dc0-8a63-4328-a393-4b9ac4d7476a",
   "metadata": {
    "tags": []
   },
   "outputs": [
    {
     "name": "stdout",
     "output_type": "stream",
     "text": [
      "Downlink speed of the country:  98.03 \n",
      "Score of the device 0.03666160788632518 \n",
      "Connection type: Mobile\n"
     ]
    },
    {
     "data": {
      "text/plain": [
       "12"
      ]
     },
     "execution_count": 4,
     "metadata": {},
     "output_type": "execute_result"
    }
   ],
   "source": [
    "retrieve_scenario(cpu_df, speed_df, \"France\", \"Tablet\" )"
   ]
  },
  {
   "cell_type": "code",
   "execution_count": 5,
   "id": "1c135c2c-dff0-4d93-9310-145a52fcd15e",
   "metadata": {
    "tags": []
   },
   "outputs": [
    {
     "name": "stdout",
     "output_type": "stream",
     "text": [
      "Downlink speed of the country:  217.3 \n",
      "Score of the device 0.1191678530178087 \n",
      "Connection type: Fixed\n"
     ]
    },
    {
     "data": {
      "text/plain": [
       "32"
      ]
     },
     "execution_count": 5,
     "metadata": {},
     "output_type": "execute_result"
    }
   ],
   "source": [
    "retrieve_scenario(cpu_df, speed_df, \"Spain\", \"Desktop\", device_brand = \"Apple\")"
   ]
  },
  {
   "cell_type": "code",
   "execution_count": 6,
   "id": "61180cf5-8670-4a3c-b4e9-5dcbca6cdafb",
   "metadata": {
    "tags": []
   },
   "outputs": [
    {
     "name": "stdout",
     "output_type": "stream",
     "text": [
      "Downlink speed of the country:  25.03 \n",
      "Score of the device 0.027303983453759166 \n",
      "Connection type: Mobile\n"
     ]
    },
    {
     "data": {
      "text/plain": [
       "10"
      ]
     },
     "execution_count": 6,
     "metadata": {},
     "output_type": "execute_result"
    }
   ],
   "source": [
    "retrieve_scenario(cpu_df, speed_df, \"Liberia\", \"Smart Phone\", device_brand = \"BQ\", device_model = \"BQ AQUARIS X PRO\")"
   ]
  },
  {
   "cell_type": "code",
   "execution_count": 7,
   "id": "a73d24a3-e1e6-4ef1-9717-10af42131fbc",
   "metadata": {
    "tags": []
   },
   "outputs": [
    {
     "name": "stdout",
     "output_type": "stream",
     "text": [
      "Downlink speed of the country:  284.13 \n",
      "Score of the device 0.03602030675011416 \n",
      "Connection type: Fixed\n"
     ]
    },
    {
     "data": {
      "text/plain": [
       "16"
      ]
     },
     "execution_count": 7,
     "metadata": {},
     "output_type": "execute_result"
    }
   ],
   "source": [
    "retrieve_scenario(cpu_df, speed_df, \"Singapore\", \"Connected TV\")"
   ]
  },
  {
   "cell_type": "code",
   "execution_count": 8,
   "id": "0b53cbeb-a503-4daa-a6f7-a735215794a2",
   "metadata": {
    "tags": []
   },
   "outputs": [
    {
     "data": {
      "text/plain": [
       "array(['Smart Phone', 'Tablet', 'Desktop', 'Connected TV'], dtype=object)"
      ]
     },
     "execution_count": 8,
     "metadata": {},
     "output_type": "execute_result"
    }
   ],
   "source": [
    "df = pd.read_csv(\"dv360_devices.csv\")\n",
    "df[\"Device Type\"].unique()"
   ]
  },
  {
   "cell_type": "code",
   "execution_count": null,
   "id": "55c0f8e4-a7ef-4146-b711-892564270c78",
   "metadata": {},
   "outputs": [],
   "source": []
  }
 ],
 "metadata": {
  "kernelspec": {
   "display_name": "Python 3 (ipykernel)",
   "language": "python",
   "name": "python3"
  },
  "language_info": {
   "codemirror_mode": {
    "name": "ipython",
    "version": 3
   },
   "file_extension": ".py",
   "mimetype": "text/x-python",
   "name": "python",
   "nbconvert_exporter": "python",
   "pygments_lexer": "ipython3",
   "version": "3.11.5"
  }
 },
 "nbformat": 4,
 "nbformat_minor": 5
}
