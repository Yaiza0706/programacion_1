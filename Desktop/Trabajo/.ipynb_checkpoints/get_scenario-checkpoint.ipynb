{
 "cells": [
  {
   "cell_type": "code",
   "execution_count": 1,
   "id": "2e17a843-0b5a-44ab-9af6-ac3a0546e229",
   "metadata": {
    "tags": []
   },
   "outputs": [],
   "source": [
    "import requests\n",
    "import re\n",
    "from bs4 import BeautifulSoup\n",
    "import pandas as pd\n",
    "import json"
   ]
  },
  {
   "cell_type": "code",
   "execution_count": 6,
   "id": "5587e864-e0e5-4637-8ed2-309e16d6c33c",
   "metadata": {
    "tags": []
   },
   "outputs": [],
   "source": [
    "#todo funcion con rango\n",
    "#si es cero los de ariba de fijo media\n",
    "\n",
    "\n",
    "\n",
    "#This function converts the chart: Comparing most common desktop, laptops and mobile CPUs into a dataframe  \n",
    "\n",
    "def get_cpu_dataframe():\n",
    "    try:  \n",
    "        response = requests.get(\"https://www.cpubenchmark.net/cross-platform.html\")\n",
    "        # Parse the HTML content and find the chart with the data\n",
    "        soup = BeautifulSoup(response.content, 'html.parser')\n",
    "        chart_list = soup.find('ul', class_='chartlist')\n",
    "\n",
    "        # Extract each row and its data from the chart list\n",
    "        items = chart_list.find_all('li')\n",
    "        names = [item.find('span', class_='prdname').text.strip().lower() for item in items]\n",
    "        scores = [float(item.find('span', class_='count').text.strip().replace(',', '')) for item in items]\n",
    "        types = [item.find('button', class_='buttonToggle').text.strip().lower() for item in items]\n",
    "\n",
    "        # Create DataFrame\n",
    "        df = pd.DataFrame({\n",
    "            'Name': names,\n",
    "            'Type': types,\n",
    "            'Score': scores,\n",
    "        })\n",
    "        #Normalize scores\n",
    "        df['Score'] = ((df['Score'] - df['Score'].min()) / (df['Score'].max() - df['Score'].min()))\n",
    "        return df\n",
    "        \n",
    "    except:\n",
    "        print(\"It was not possible to get devices benchmarking chart\")\n",
    "    \n",
    "\n",
    "#This function gets the score of a device depending on the known information\n",
    "\n",
    "def get_device_score(df, device_type=\"\", device_system=\"\", device_brand=\"\", device_model=\"\"):  \n",
    "    #Type: The type of device, such \"Desktop\", “Connected TV”, \"Smartphone\", \"Tablet\"   \n",
    "        #Supposing that Laptop is inside Desktop\n",
    "    #System: The name of an operating system\n",
    "        # The database only distinguish between ios and android\n",
    "    #Brand: The brand of mobile device, such \"Acer\", \"Amazon\", \"Apple\", \"Samsung\", \"Xiaomi\"...\n",
    "    #Model: The brand and model of device, such \"Amazon Kindle Fire\", \"Apple iPhone\", \"Samsung Galaxy\"...\n",
    "    \n",
    "    if(device_model):\n",
    "        #Look for the devices that contains the given model in the dataframe and compute the average score of them\n",
    "        model_devices = df[df['Name'].str.contains(device_model.lower(), case=False)]\n",
    "        if not model_devices.empty:\n",
    "            return model_devices['Score'].mean()\n",
    "        #device_brand = device_model.split()[0]\n",
    "        \n",
    "    if(device_brand):\n",
    "        #Look for the devices of the given brand in the dataframe and compute the average score of them\n",
    "        brand_devices = df[df['Name'].str.contains(brand_name.lower(), case=False)]\n",
    "        if not brand_devices.empty:\n",
    "            return brand_devices['Score'].mean()\n",
    "        \n",
    "    if(device_system):\n",
    "        #Look for the devices with the given operating system in the dataframe and compute the average score of them\n",
    "        type_devices = df[df['Type'].str.contains(device_system.lower(), case=False)]\n",
    "        if not type_devices.empty:\n",
    "            return type_devices['Score'].mean()\n",
    "        \n",
    "    if(device_type):\n",
    "        if device_type.lower() == \"desktop\":\n",
    "            # Compute the average score of the devices with system 'desktop' or 'laptop'\n",
    "            computer_devices = df[(df['Type'] == 'desktop') | (df['Type'] == 'laptop')]\n",
    "            if not computer_devices.empty:\n",
    "                return computer_devices['Score'].mean()\n",
    "        elif device_type.lower() == \"smartphone\" or device_type.lower() == \"tablet\":\n",
    "             # Compute the average score of the devices with system 'android' or 'ios'\n",
    "            mobile_devices = df[(df['Type'] == 'ios') | (df['Type'] == 'android')]\n",
    "            if not mobile_devices.empty:\n",
    "                return mobile_devices['Score'].mean()\n",
    "        elif device_type.lower() == \"connected tv\" :\n",
    "            # Compute the average score of the devices with system 'android'\n",
    "            tv_devices = df[df['Type'] == 'android']\n",
    "            if not tv_devices.empty:\n",
    "                return tv_devices['Score'].mean()\n",
    "\n",
    "    # Device is tv or unspecified - Compute the average score of all the devices\n",
    "    return df['Score'].mean()\n",
    "\n",
    "    \n",
    "#This function converts the chart: Median country speed into a dataframe  \n",
    "\n",
    "def get_speed_dataframe():\n",
    "    try:  \n",
    "        response = requests.get(\"https://www.speedtest.net/global-index\")\n",
    "        # Find the variable 'results' and convert it to json\n",
    "        match = re.search(r'var\\s+results\\s*=\\s*({.*?});', response.text, re.DOTALL).group(1)\n",
    "        data_dict = json.loads(match)      \n",
    "        speed_data = {}\n",
    "    \n",
    "        # Extract data from  json \n",
    "        for entry in data_dict['fixedMedian']:\n",
    "            country = entry['country']['country_name']\n",
    "            speed_data[country] = {\n",
    "                'Fixed downlink': entry['download_mbps'],\n",
    "                'Fixed uplink': entry['upload_mbps'],\n",
    "                'Fixed latency': entry['latency_ms'],\n",
    "                'Fixed jitter': entry['jitter'],\n",
    "                'Mobile downlink': None,\n",
    "                'Mobile uplink': None,\n",
    "                'Mobile latency': None,\n",
    "                'Mobile jitter': None\n",
    "            }   \n",
    "        for entry in data_dict['mobileMedian']:\n",
    "            country = entry['country']['country_name']\n",
    "            speed_data[country]['Mobile downlink'] = entry['download_mbps']\n",
    "            speed_data[country]['Mobile uplink'] = entry['upload_mbps']\n",
    "            speed_data[country]['Mobile latency'] = entry['latency_ms']\n",
    "            speed_data[country]['Mobile jitter'] = entry['jitter']\n",
    "                \n",
    "        # Create DataFrame replace Nan values by 0 and convert speed values to float\n",
    "        df = pd.DataFrame.from_dict(speed_data, orient='index').reset_index()\n",
    "        df.columns = ['Country', 'Fixed downlink', 'Fixed uplink', 'Fixed latency', 'Fixed jitter', 'Mobile downlink', 'Mobile uplink', 'Mobile latency', 'Mobile jitter']\n",
    "        df.fillna(0, inplace=True)\n",
    "        speed_columns = ['Fixed downlink', 'Fixed uplink', 'Fixed latency', 'Fixed jitter', 'Mobile downlink', 'Mobile uplink', 'Mobile latency', 'Mobile jitter']\n",
    "        df[speed_columns] = df[speed_columns].astype(float)\n",
    "        return df\n",
    "    \n",
    "    except:\n",
    "        print(\"It was not possible to get country speed information\")\n",
    "        \n",
    "        \n",
    "#This function gets the speed information of a country\n",
    "\n",
    "def get_country_speed(df, country):\n",
    "    country_info = df[df['Country'] == country]\n",
    "    if not country_info.empty:\n",
    "        return country_info\n",
    "    else:\n",
    "        return \"Country not found in the data.\"\n",
    "    \n",
    "    \n",
    "# This function calculates quantiles dynamically based on the number of divisions and determines in which one the device falls\n",
    "                       \n",
    "def get_range(column, divisions, score):\n",
    "    quantiles = [i / divisions for i in range(1, divisions+1)]\n",
    "    quantile_values = column.quantile(quantiles)\n",
    "    for i, quantile in enumerate(quantile_values):\n",
    "        if score <= quantile:\n",
    "            device_range = i+1\n",
    "            if i != 0:\n",
    "                range_min = quantile_values[quantiles[i-1]]\n",
    "            else:\n",
    "                range_min = 0\n",
    "            range_max = quantile_values[quantiles[i]]\n",
    "            range_ = [range_min, range_max]   \n",
    "            return device_range, range_"
   ]
  },
  {
   "cell_type": "markdown",
   "id": "4c73f895-f492-4c3d-b3b3-20b6c38bc71a",
   "metadata": {},
   "source": [
    "# Get CPU level according to the device"
   ]
  },
  {
   "cell_type": "code",
   "execution_count": 8,
   "id": "1d7d6d41-61b6-4cf3-b0f7-69cb42a72600",
   "metadata": {
    "tags": []
   },
   "outputs": [
    {
     "name": "stdout",
     "output_type": "stream",
     "text": [
      "The normalized score of the device is  0.0441699441689714 and it correspons to the Level 6 that contains the range [0.039683019374769146, 0.047372485813102314]\n"
     ]
    }
   ],
   "source": [
    "cpu_df = get_cpu_dataframe()\n",
    "score = get_device_score(cpu_df, device_system=\"android\")\n",
    "device_range, column_range = get_range(cpu_df['Score'], 10, score)\n",
    "print(\"The normalized score of the device is \", score, \"and it correspons to the Level\", device_range, \"that contains the range\", column_range )"
   ]
  },
  {
   "cell_type": "markdown",
   "id": "d15b50e9-76ff-492b-908f-367e98a52d4b",
   "metadata": {},
   "source": [
    "# Get speed level according to the country"
   ]
  },
  {
   "cell_type": "code",
   "execution_count": 4,
   "id": "d36c967a-fdff-4391-9998-4c7637713ced",
   "metadata": {
    "tags": []
   },
   "outputs": [
    {
     "name": "stdout",
     "output_type": "stream",
     "text": [
      "The median speed of the country is  47.49 and it correspons to the Level 3\n",
      "[46.899999999999956, 313.3]\n",
      "Downlink speed:  96.3222950819672 , Uplink speed:  16.297704918032785 , Latency:  22.37704918032787 , Jitter:  6.80327868852459\n"
     ]
    }
   ],
   "source": [
    "device_type = \"la\"\n",
    "if device_type.lower() == \"desktop\" or device_type.lower() == 'connected  tv':\n",
    "    connection_type = 'Fixed'\n",
    "else:\n",
    "    connection_type = 'Mobile' \n",
    "    \n",
    "speed_df = get_speed_dataframe()\n",
    "speed = get_country_speed(speed_df,\"Spain\")\n",
    "download_speed = speed[f\"{connection_type} downlink\"].values[0]\n",
    "device_range, column_range = get_range(speed_df[f\"{connection_type} downlink\"], 3, download_speed)\n",
    "print(\"The median speed of the country is \", download_speed, \"and it correspons to the Level\", device_range)\n",
    "print(column_range)\n",
    "# Filter row countries within the quantile range and extract mean values\n",
    "quantile_countries = speed_df[(speed_df[f\"{connection_type} downlink\"] >= column_range[0]) & (speed_df[f\"{connection_type} downlink\"] <=column_range[1])]\n",
    "down_speed = quantile_countries[f\"{connection_type} downlink\"].mean()\n",
    "up_speed = quantile_countries[f\"{connection_type} uplink\"].mean()\n",
    "latency = quantile_countries[f\"{connection_type} latency\"].mean()\n",
    "jitter = quantile_countries[f\"{connection_type} jitter\"].mean()\n",
    "print(\"Downlink speed: \",down_speed, \", Uplink speed: \", up_speed, \", Latency: \", latency, \", Jitter: \", jitter)"
   ]
  }
 ],
 "metadata": {
  "kernelspec": {
   "display_name": "Python 3 (ipykernel)",
   "language": "python",
   "name": "python3"
  },
  "language_info": {
   "codemirror_mode": {
    "name": "ipython",
    "version": 3
   },
   "file_extension": ".py",
   "mimetype": "text/x-python",
   "name": "python",
   "nbconvert_exporter": "python",
   "pygments_lexer": "ipython3",
   "version": "3.11.5"
  }
 },
 "nbformat": 4,
 "nbformat_minor": 5
}
